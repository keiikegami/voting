{
 "cells": [
  {
   "cell_type": "markdown",
   "metadata": {},
   "source": [
    "# やること\n",
    "\n",
    "MatlabのコードをJuliaに翻訳する。"
   ]
  },
  {
   "cell_type": "markdown",
   "metadata": {},
   "source": [
    "## new_loglike2の翻訳"
   ]
  },
  {
   "cell_type": "code",
   "execution_count": null,
   "metadata": {
    "collapsed": true
   },
   "outputs": [],
   "source": [
    "function new_loglike(param, data)\n",
    "    \n",
    "    if i_bayes == 1\n",
    "        param = param\n",
    "    end\n",
    "    \n",
    "    # setting parameters\n",
    "    # FAlphaは鉤括弧？\n",
    "    param[2,1] = -1\n",
    "    C0 = 0\n",
    "    Cx = param[1:3,1]\n",
    "    Cz = -abs(param[4:6,1])\n",
    "    FAlph(1,1) = abs(param[7,1])\n",
    "    FAlph(2,1) = abs(param[8,1])\n",
    "    param[7:8,1] = FAlph(1:2,1)\n",
    "    Sig_xsi  = max(0.5, abs(param[9,1]))\n",
    "    param[9,1] = Sig_xsi\n",
    "    DeltaO  = 0.6891\n",
    "    DeltaMO = 0.5366\n",
    "    vk = param[12:23,1]\n",
    "    composite = param[75:149,1]\n",
    "    Tij = abs(param[150:260,1])\n",
    "    \n",
    "    # new parameters\n",
    "    rho_eta = param[261,1]\n",
    "    rho_chi = param[262:265,1]\n",
    "    mu_chi = param[266:269,1]\n",
    "    chi = param[270:273,1]\n",
    "    \n",
    "    \n",
    "    # making log likelihood\n",
    "\n",
    "    # simulated values\n",
    "    N_T_i j = [0;1;3;6]\n",
    "    # ここのinverseをどうするか\n",
    "    Alpha = icdf('beta',SimAlp,FAlph(1,1),FAlph(2,1))\n",
    "    Xsi = Sig_xsi*SimXsi\n",
    "\n",
    "    # calculating utilities\n",
    "    # Base Utility for Sincere, [# of categories X # of candidates]\n",
    "    VSin = X[:,2:end]*[vk[1:3],vk[4:6],vk[7:9],vk[10:12]]-C0-X[:, 2:end]*Cx[1:3]*ones(1,4)\n",
    "    # Base Utility for Strategic, [# of categories X # of candidates]\n",
    "    VStr = X[:, 2:end]*[vk[1:3],vk[4:6],vk[7:9],vk[10:12]]\n",
    "\n",
    "    #Eligible voters accounting for Open and Modified Open\n",
    "    DELTA = DeltaO*Open+DeltaMO*MOpen\n",
    "    RTOT = RDemHat.*(1+DELTA)-VOther\n",
    "\n",
    "    # store signals in advance\n",
    "    signals = randn(4,T) * sqrt(1/rho_eta)\n",
    "    for i in 1:4\n",
    "        signals[i, :] = signals[i, :] + chi[i, 1]\n",
    "    end\n",
    "\n",
    "    loglik_s = zeros(size(Cand,1),1)\n",
    "\n",
    "    # Candをdateについての昇順に変える\n",
    "    # sort(Cand,13)\n",
    "    sortrows(Cand, by = x->(x[13]))\n",
    "    \n",
    "    for S in 1:size(Cand,1)\n",
    "        if Cand[S,15] - Cand[S,14] < 21 || S == 30 || S == 34 #Excluding Utah, Wisconsin, and small\n",
    "        else\n",
    "            N_candS = sum(Cand[S,1:4])\n",
    "            M = Cand[S,15] - Cand[S,14] + 1    # Number of municipalities in State S\n",
    "            if Cand[S,11] == 0\n",
    "                T_s = zeros(N_T_ij[N_candS,1],1)\n",
    "                COMPOSITE = zeros(N_candS,1)\n",
    "            else\n",
    "                T_s = Tij[Cand[S,11]:Cand[S,12],1]\n",
    "                COMPOSITE = composite[Cand[S,16]:Cand[S,17],1]\n",
    "            end\n",
    "\n",
    "            VSTR_s = []\n",
    "            Dropped_s = find(Cand[S,1:4] .== 0)            # index of candidates withdrawn.\n",
    "            Candidate_s = find(Cand[S,1:4] .== 1)        # index of cadidate\n",
    "            Senate_s = DATA(Cand[S,14], 27)*Cz(1,1)      # Cost from Senate elections\n",
    "            Governer_s = DATA(Cand[S,14], 29)*Cz(3,1)    # Cost from GOvernor elections\n",
    "            dFX_s = dFX[Cand[S,14]:Cand[S,15], :]\n",
    "            date = Cand[S,13]                          # election date (1 ~ 14)\n",
    "\n",
    "            # 行の削除をどうやるか\n",
    "            # というか行の削除をする必要があるのか\n",
    "            temp = Cand[S,1:4]\n",
    "            PatternCand_d = Cand[S, 24:27]\n",
    "            temp[:, find(Cand[S,24:27] .== 0)] = []\n",
    "            PatternCand_d[:, find(Cand[S,24:27] .== 0)] = []\n",
    "\n",
    "            Alpha_s = Alpha[Cand[S,14]:Cand[S,15], :, :]\n",
    "            Xsi_s = Xsi[Cand[S,14]:Cand[S,15], :, :]\n",
    "\n",
    "            # 行の削除をどうやるか\n",
    "            # そもそも削除する必要があるか\n",
    "            VSin_s = VSin\n",
    "            VSin_s[:, Dropped_s] = []\n",
    "            VStr_s = VStr\n",
    "            VStr_s[:, Dropped_s] = []\n",
    "\n",
    "            # make XiOmg_s whose size is [1, num of candidates in the state]\n",
    "            # take necessary parameters\n",
    "            rho_chi_s = rho_chi[Candidate_s, 1]\n",
    "            mu_chi_s = mu_chi[Candidate_s, 1]\n",
    "            chi_s = chi_s[Candidate_s, 1]\n",
    "            # calculating XiOmg_s\n",
    "            signals_s = signals[:, date]\n",
    "            \n",
    "            # cumsum は1次元配列にしか使えないので注意ダメだったらsqueeze\n",
    "            cum_signals = cumsum(signals_s, 2)\n",
    "            upper = rho_chi_s + mu_chi_s + rho_eta * cum_signals(Candidate_s,1)\n",
    "            under = rho_chi_s + date * rho_eta\n",
    "            XiOmg_s = upper ./ under\n",
    "\n",
    "            VSin_s = VSin_s + ones(size(VSin_s,1), 1)*XiOmg_s' -Senate_s-Governer_s\n",
    "\n",
    "            if Cand[S,9] == 1 && Cand[S,10] == 1\n",
    "                Composite = ones(size(X,1),1)*COMPOSITE'\n",
    "                VSTR_s[:,1] = T_s[1,1]*(VStr_s[:,1]-VStr_s[:,2])+T_s[2,1]*(VStr_s[:,1]-VStr_s[:,3])\n",
    "                +T_s[3,1]*(VStr_s[:,1]-VStr_s[:,4])+Composite[:,1]\n",
    "                VSTR_s[:,2] = T_s[1,1]*(VStr_s[:,2]-VStr_s[:,1])+T_s[4,1]*(VStr_s[:,2]-VStr_s[:,3])\n",
    "                +T_s[5,1]*(VStr_s[:,2]-VStr_s[:,4])+Composite[:,2]\n",
    "                VSTR_s[:,3] = T_s[2,1]*(VStr_s[:,3]-VStr_s[:,1])+T_s[4,1]*(VStr_s[:,3]-VStr_s[:,2])\n",
    "                +T_s[6,1]*(VStr_s[:,3]-VStr_s[:,4])+Composite[:,3]\n",
    "                VSTR_s[:,4] = T_s[3,1]*(VStr_s[:,4]-VStr_s[:,1])+T_s[5,1]*(VStr_s[:,4]-VStr_s[:,2])\n",
    "                +T_s[6,1]*(VStr_s[:,4]-VStr_s[:,3])+Composite[:,4]\n",
    "\n",
    "                elseif (Cand[S,9] == 2 || Cand[S,9] == 3) && Cand[S,10] == 1\n",
    "                Composite = ones(size(X,1),1)*COMPOSITE'\n",
    "                VSTR_s[:,1] = T_s[1,1]*(VStr_s[:,1]-VStr_s[:,2])+T_s[2,1]*(VStr_s[:,1]-VStr_s[:,3])\n",
    "                +Composite[:,1]\n",
    "                VSTR_s[:,2] = T_s[1,1]*(VStr_s[:,2]-VStr_s[:,1])+T_s[3,1]*(VStr_s[:,2]-VStr_s[:,3])\n",
    "                +Composite[:,2]\n",
    "                VSTR_s[:,3] = T_s[2,1]*(VStr_s[:,3]-VStr_s[:,1])+T_s[3,1]*(VStr_s[:,3]-VStr_s[:,2])\n",
    "                +Composite[:,3]\n",
    "\n",
    "\n",
    "                elseif Cand[S,10] == 0  # after super tuesday\n",
    "                # VSTR_s=VSin_s+C0+X(:,2:end)*Cx(1:3)*ones(1,N_candS) ?\n",
    "                VSTR_s = VSin_s + 2*(Senate_s+Governer_s)\n",
    "            end\n",
    "\n",
    "            # Utiltiy of Strategic with no house elections\n",
    "            VSTR_s = VSTR_s - C0 - X[:,2:end]*Cx[1:3]*ones(1,N_candS) - Senate_s - Governer_s\n",
    "\n",
    "            VSTR_ss = zeros(N_sim,N_candS)\n",
    "            VSIN_ss = zeros(N_sim,N_candS)\n",
    "\n",
    "            # eligible voters\n",
    "            RTot_s = RTOT[Cand[S,14]:Cand[S,15], :]\n",
    "            RTot_s = max(RTot_s, sum(Votes[Cand[S,14]:Cand[S,15], :], 2))\n",
    "            Votes_s = Votes[Cand[S,14]:Cand[S,15], :]./(RTot_s*ones(1,4)) #vote share data\n",
    "            # 行削除\n",
    "            Votes_s[:, Dropped_s] = []\n",
    "            loglik_m = zeros(M,1)\n",
    "\n",
    "            if Cand[S,10] == 1\n",
    "\n",
    "                for m in 1:M\n",
    "                    VSin_s = VSin_s - Cz[2,1]*DATA[Cand[S,14] + m - 1, 28]\n",
    "                    VSTR_s = VSTR_s - Cz[2,1]*DATA[Cand[S,14] + m - 1, 28]\n",
    "\n",
    "                    for sim in 1:N_sim\n",
    "\n",
    "                        nakami = max(min(VSin_s + ones(N_dFX,1)*Xsi_s[m,1:N_candS, sim], 200), -200)\n",
    "                        nakami2 = max(min(VSTR_s + ones(N_dFX,1)*Xsi_s[m,1:N_candS,sim], 200), -200)\n",
    "\n",
    "                        eVSIN_ss = exp(nakami)./ (1+sum(exp(nakami),2)*ones(1,N_candS))\n",
    "                        eVSTR_ss = exp(nakami2)./ (1+sum(exp(nakami2),2)*ones(1,N_candS))\n",
    "\n",
    "                        VSTR_ss[sim, :] = dFX_s[m, :]*eVSTR_ss\n",
    "                        VSIN_ss[sim, :] = dFX_s[m, :]*eVSIN_ss\n",
    "                    end\n",
    "\n",
    "                    Alp_ss = squeeze(Alpha_s[m, :, :])'\n",
    "                    VSHARE = VSTR_ss.*(Alp_ss*ones(1,N_candS)) + VSIN_ss.*(1-Alp_ss*ones(1,N_candS))\n",
    "                    # pdfはStatsFunsのnorrmpdfを使用\n",
    "                    loglik_m[m,1] = log(sum(prod(normpdf((ones(N_sim,1)*Votes_s[m,:] - VSHARE)/bandwidth),2),1)/N_sim)\n",
    "                end\n",
    "        \n",
    "                loglik_s[S,1] = sum(loglik_m)\n",
    "\n",
    "            elseif Cand[S,10] == 0\n",
    "\n",
    "                for m in 1:M\n",
    "                    VSin_s = VSin_s-Cz[2,1]*DATA[Cand[S,14]+m-1, 28]\n",
    "                    AST = 1./(1+exp(C0+X[:,2:end]*Cx[1:3]*ones(1,N_candS) + Cz[2,1]*DATA[Cand[S,14]+m-1, 28]+Senate_s+Governer_s))\n",
    "                    # AST: Turnout of strategic voters after super tuesday\n",
    "\n",
    "                    for sim in 1:N_sim\n",
    "\n",
    "                        nakami = max(min(VSin_s + ones(N_dFX,1)*Xsi_s[m, 1:N_candS,sim], 200), -200)\n",
    "                        eVSIN_ss = exp(nakami)./ (1 + sum(exp(nakami),2)*ones(1,N_candS))\n",
    "                        VSIN_ss[sim, :] = dFX_s[m, :]*eVSIN_ss\n",
    "                    end\n",
    "        \n",
    "                    VSHARE = VSIN_ss\n",
    "                    # pdfはStatsFunsのnorrmpdfを使用\n",
    "                    loglik_m[m,1] = log(sum(prod(normpdf((ones(N_sim,1)*Votes_s[m,:] - VSHARE)/bandwidth),2),1)/N_sim)\n",
    "                end\n",
    "                loglik_s[S,1] = sum(loglik_m)\n",
    "            end\n",
    "        end\n",
    "\n",
    "        if S == 10\n",
    "            S = S\n",
    "        end\n",
    "    end\n",
    "\n",
    "    loglik = sum(loglik_s)\n",
    "return loglik = -loglik\n",
    "\n",
    "end"
   ]
  },
  {
   "cell_type": "code",
   "execution_count": 28,
   "metadata": {
    "collapsed": false
   },
   "outputs": [
    {
     "ename": "LoadError",
     "evalue": "LoadError: UndefVarError: cumcum not defined\nwhile loading In[28], in expression starting on line 4",
     "output_type": "error",
     "traceback": [
      "LoadError: UndefVarError: cumcum not defined\nwhile loading In[28], in expression starting on line 4",
      ""
     ]
    }
   ],
   "source": [
    "N_T = [0;1;3;6] \n",
    "b = [1 2 3 4]\n",
    "cumsum(N_T)\n",
    "cumcum(b)"
   ]
  },
  {
   "cell_type": "code",
   "execution_count": 29,
   "metadata": {
    "collapsed": false
   },
   "outputs": [
    {
     "data": {
      "text/plain": [
       "1×4 Array{Int64,2}:\n",
       " 1  2  3  4"
      ]
     },
     "execution_count": 29,
     "metadata": {},
     "output_type": "execute_result"
    }
   ],
   "source": [
    "b"
   ]
  },
  {
   "cell_type": "code",
   "execution_count": 31,
   "metadata": {
    "collapsed": false
   },
   "outputs": [
    {
     "data": {
      "text/plain": [
       "4-element Array{Int64,1}:\n",
       " 0\n",
       " 1\n",
       " 3\n",
       " 6"
      ]
     },
     "execution_count": 31,
     "metadata": {},
     "output_type": "execute_result"
    }
   ],
   "source": [
    "N_T"
   ]
  },
  {
   "cell_type": "code",
   "execution_count": 19,
   "metadata": {
    "collapsed": false
   },
   "outputs": [
    {
     "data": {
      "text/plain": [
       "3×2 Array{Int64,2}:\n",
       "  2  3\n",
       " 10  5\n",
       "  6  1"
      ]
     },
     "execution_count": 19,
     "metadata": {},
     "output_type": "execute_result"
    }
   ],
   "source": [
    "a = [2 3; 10 5 ; 6 1]\n"
   ]
  },
  {
   "cell_type": "code",
   "execution_count": 20,
   "metadata": {
    "collapsed": false
   },
   "outputs": [
    {
     "data": {
      "text/plain": [
       "3×2 Array{Int64,2}:\n",
       "  2  1\n",
       "  6  3\n",
       " 10  5"
      ]
     },
     "execution_count": 20,
     "metadata": {},
     "output_type": "execute_result"
    }
   ],
   "source": [
    "sort(a, 1)"
   ]
  },
  {
   "cell_type": "code",
   "execution_count": 10,
   "metadata": {
    "collapsed": false
   },
   "outputs": [
    {
     "data": {
      "text/plain": [
       "1.4142135623730951"
      ]
     },
     "execution_count": 10,
     "metadata": {},
     "output_type": "execute_result"
    }
   ],
   "source": [
    "sqrt(2)"
   ]
  },
  {
   "cell_type": "code",
   "execution_count": 33,
   "metadata": {
    "collapsed": false
   },
   "outputs": [
    {
     "name": "stdout",
     "output_type": "stream",
     "text": [
      "0\n"
     ]
    }
   ],
   "source": [
    "if 1!=1 || 2==2\n",
    "    println(0)\n",
    "end"
   ]
  },
  {
   "cell_type": "code",
   "execution_count": 34,
   "metadata": {
    "collapsed": false
   },
   "outputs": [
    {
     "name": "stderr",
     "output_type": "stream",
     "text": [
      "INFO: Precompiling module StatsFuns.\n"
     ]
    }
   ],
   "source": [
    "using StatsFuns"
   ]
  },
  {
   "cell_type": "code",
   "execution_count": 39,
   "metadata": {
    "collapsed": false
   },
   "outputs": [
    {
     "data": {
      "text/plain": [
       "0.3989422804014327"
      ]
     },
     "execution_count": 39,
     "metadata": {},
     "output_type": "execute_result"
    }
   ],
   "source": [
    "normpdf(0)"
   ]
  },
  {
   "cell_type": "code",
   "execution_count": 40,
   "metadata": {
    "collapsed": false
   },
   "outputs": [
    {
     "data": {
      "text/plain": [
       "2.718281828459045"
      ]
     },
     "execution_count": 40,
     "metadata": {},
     "output_type": "execute_result"
    }
   ],
   "source": [
    "exp(1)"
   ]
  },
  {
   "cell_type": "code",
   "execution_count": null,
   "metadata": {
    "collapsed": true
   },
   "outputs": [],
   "source": []
  }
 ],
 "metadata": {
  "kernelspec": {
   "display_name": "Julia 0.5.0",
   "language": "julia",
   "name": "julia-0.5"
  },
  "language_info": {
   "file_extension": ".jl",
   "mimetype": "application/julia",
   "name": "julia",
   "version": "0.5.0"
  }
 },
 "nbformat": 4,
 "nbformat_minor": 0
}
