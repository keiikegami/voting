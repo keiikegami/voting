{
 "cells": [
  {
   "cell_type": "markdown",
   "metadata": {},
   "source": [
    "# やること\n",
    "\n",
    "## パラメータは？\n",
    "\n",
    "パラメータとして与えるのは以下\n",
    "\n",
    "①　$\\rho_{\\chi_{k}}$　:　 $\\chi_{k}$に対するbeliefのprior precision。　candidateごとに用意する。\n",
    "\n",
    "②　$\\mu_{\\chi_{k}}$　：　$\\chi_{k}$に対するbeliefのmean。candidateごとに用意する。\n",
    "\n",
    "③　$\\rho_{\\eta}$　：　シグナルのprecision。一つで良い。\n",
    "\n",
    "④　$\\chi_{k}$　：　candidate kのtrue quality。candidateごとに用意する。\n",
    "\n",
    "## belief updating\n",
    "\n",
    "③と④をgivenとして$s_{1,k}\\sim N(\\chi_{k}, \\frac{1}{\\rho_{\\eta}})$をdrawする。\n",
    "\n",
    "1期のシグナルをもとに、①②③を用いてposteriorを次のように構成する。\n",
    "\n",
    "$B_{1, k} \\sim N\\left(\\frac{\\rho_{\\chi_{k}} \\mu_{\\chi_{k}} + \\rho_{\\eta}s_{1, k}}{\\rho_{\\chi_{k}} + t \\rho_{\\eta}}, \\frac{1}{\\rho_{\\chi_{k}} + t \\rho_{\\eta}}\\right)$\n",
    "\n",
    "このposterior meanを$E\\left[\\chi_{k}|\\Omega_{1}\\right]$として記録する。\n",
    "\n",
    "以降t期においても同様に\n",
    "\n",
    "③と④をgivenとして$s_{t,k}\\sim N(\\chi_{k}, \\frac{1}{\\rho_{\\eta}})$をdrawする。\n",
    "\n",
    "t期のシグナルをもとに、①②③を用いてposteriorを次のように構成する。\n",
    "\n",
    "$B_{1, k} \\sim N\\left(\\frac{\\rho_{\\chi_{k}} \\mu_{\\chi_{k}} + \\rho_{\\eta} \\sum_{\\tau = 1}^{t} s_{\\tau, k}}{\\rho_{\\chi_{k}} + t \\rho_{\\eta}}, \\frac{1}{\\rho_{\\chi_{k}} + t \\rho_{\\eta}}\\right)$\n",
    "\n",
    "そしてそのposterior meanを$E\\left[\\chi_{k}|\\Omega_{t}\\right]$として記録する。\n",
    "\n",
    "## 詳細\n",
    "\n",
    "パラメータセット一つにつきT回シグナルを乱数発生する。使うパラメータはいつも一緒なので出てくる数字に大差はない。\n",
    "\n",
    "違うのはその出てくる順番。T!順あり得るので一つのパラメータセットにつきT!回1期からT期までの$E\\left[\\chi_{k}|\\Omega_{t}\\right]$を記録する。\n",
    "\n",
    "さらにパラメータは100セット用意。\n",
    "\n",
    "以下では、candidate4人について$E\\left[\\chi_{k}|\\Omega_{t}\\right]$のpathを100×T!通り作成するためのclassを作成する。\n",
    "\n",
    "使用するクラスは以下で定義されている。"
   ]
  },
  {
   "cell_type": "markdown",
   "metadata": {},
   "source": [
    "\n",
    "class ExpectedChi:\n",
    "    \n",
    "    def __init__(self, lam = 1.0, T = 5, sim = 10, random_state = 1):\n",
    "        self.lam = lam # parameter of exponential distribution which rho's follow\n",
    "        self.T = T # time\n",
    "        self.sim = sim # simulation number\n",
    "        self.random_state = random_state\n",
    "    \n",
    "    def setparam(self):\n",
    "        # params[0, :]　：　rho_eta\n",
    "        # params[(1,2,3,4), :] : rho_chi for each candidate\n",
    "        # params[(5,6,7,8), :] : mu_chi for each candidate\n",
    "        # params[(9,10,11,12), :] : chi for each candidate\n",
    "        r = np.random.RandomState(self.random_state)\n",
    "        rho = r.exponential(self.lam, (5, self.sim))\n",
    "        mu_chi = r.normal(0.0,1.0,(8, self.sim))\n",
    "        params = np.vstack((rho, mu_chi))\n",
    "        return params\n",
    "        \n",
    "    def signals(self):\n",
    "        # make the 4 dimentional array : all_signals\n",
    "        # each element in all_signals is 3 dimentional array whose shape is (T! * 4 * T )\n",
    "        params = self.setparam()\n",
    "        all_signals = np.empty([self.sim, factorial(self.T).astype(int), 4, self.T])\n",
    "        g = np.random.RandomState(self.random_state)\n",
    "        for i in range(self.sim):\n",
    "            for k in range(factorial(self.T).astype(int)):\n",
    "                for j in range(4):\n",
    "                    all_signals[i, k, j, :] = g.normal(params[j + 9, i], 1/params[0, i],  (1, self.T))\n",
    "        return all_signals\n",
    "    \n",
    "    def cum_signals(self):\n",
    "        # calculating cumulative signals for expected chi_k given omega\n",
    "        sig = self.signals()\n",
    "        for i in range(self.sim):\n",
    "            for j in range(self.T):\n",
    "                if j != 0:\n",
    "                    sig[i, :, :, :][:, :, j] = sig[i, :, :, :][:, :, j] + sig[i, :, :, :][:, :, j -1]\n",
    "        return sig\n",
    "            \n",
    "    def expected_chi(self):\n",
    "        # calculating expected chi_k given omega\n",
    "        cum = self.cum_signals()\n",
    "        params = self.setparam()\n",
    "        transform = np.empty((self.sim, factorial(self.T).astype(int), 4, self.T))\n",
    "        \n",
    "        # first multiply cum by rho_eta \n",
    "        for i in range(self.sim):\n",
    "            transform[i, :, :, :] = cum[i, :, :, :] * params[0, i]\n",
    "            \n",
    "        # second add rho_chi + mu_chi to transform\n",
    "        for i in range(self.sim):\n",
    "            for j in range(4):\n",
    "                transform[i, :, j, :] = transform[i, :, j, :] + (params[j + 1, i] * params[j + 5, i])\n",
    "        \n",
    "        # third divide by rho_chi + t * rho_eta\n",
    "        for i in range(self.sim):\n",
    "            for j in range(4):\n",
    "                for t in range(self.T):\n",
    "                    transform[i, :, j, t] = transform[i, :, j, t] / (params[j + 1, i] + t * params[0, i])\n",
    "        \n",
    "        return transform\n",
    "    \n",
    "    def means(self, each_sim = True):\n",
    "        # calculate mean\n",
    "        if each_sim == True:\n",
    "            # calculate the means of expected chi for each parameter set and t\n",
    "            # return matrix\n",
    "            return self.expected_chi().mean(axis = (1,2))\n",
    "        \n",
    "        else:\n",
    "            # calcualte the over all mean\n",
    "            return self.expected_chi().mean(axis = (0,1,2))\n",
    "        \n",
    "    def variances(self, each_sim = True):\n",
    "        # calculate variance\n",
    "        if each_sim == True:\n",
    "            # calculate the variances of expected chi for each parameter set and t\n",
    "            # return list\n",
    "            return self.expected_chi().var(axis = (1,2))\n",
    "        \n",
    "        else:\n",
    "            # calcualte the over all variances\n",
    "            return self.expected_chi().var(axis = (0,1,2))"
   ]
  },
  {
   "cell_type": "code",
   "execution_count": 1,
   "metadata": {
    "collapsed": false
   },
   "outputs": [],
   "source": [
    "import numpy as np\n",
    "from scipy.special import factorial\n",
    "from ExpectedChi import ExpectedChi as EC\n",
    "test = EC()"
   ]
  },
  {
   "cell_type": "code",
   "execution_count": 2,
   "metadata": {
    "collapsed": false
   },
   "outputs": [
    {
     "data": {
      "text/plain": [
       "array([[-0.88396817, -0.20129887, -0.07476652, -0.01035578, -0.00456911],\n",
       "       [ 0.11898259,  0.35318368,  0.37262632,  0.39299118,  0.38727952],\n",
       "       [-0.1965428 , -0.14282227, -0.30184068, -0.20490944, -0.31136395],\n",
       "       [-0.03435554, -0.07620991, -0.10602794, -0.13975592, -0.16922318],\n",
       "       [ 0.92550285,  0.52809219,  0.31346203,  0.36058742,  0.37337207],\n",
       "       [ 1.07895875,  0.84350256,  0.83603981,  0.80011803,  0.759201  ],\n",
       "       [ 1.17690401,  0.94992759,  0.79176962,  0.72673968,  0.71392296],\n",
       "       [ 4.04541776,  0.94819321,  0.79377798,  0.76571853,  0.74623071],\n",
       "       [-4.35474123, -0.52890246, -0.47293046, -0.39411625, -0.34690467],\n",
       "       [ 0.25674221,  0.3765129 ,  0.37933115,  0.39086378,  0.39165151]])"
      ]
     },
     "execution_count": 2,
     "metadata": {},
     "output_type": "execute_result"
    }
   ],
   "source": [
    "test.means()"
   ]
  },
  {
   "cell_type": "code",
   "execution_count": 3,
   "metadata": {
    "collapsed": false
   },
   "outputs": [
    {
     "data": {
      "text/plain": [
       "array([ 0.21329004,  0.30501786,  0.25314413,  0.26878812,  0.25395969])"
      ]
     },
     "execution_count": 3,
     "metadata": {},
     "output_type": "execute_result"
    }
   ],
   "source": [
    "test.means(each_sim = False)"
   ]
  },
  {
   "cell_type": "code",
   "execution_count": 4,
   "metadata": {
    "collapsed": false
   },
   "outputs": [
    {
     "data": {
      "text/plain": [
       "array([[  2.60171109e+01,   1.67687640e+00,   1.04284883e+00,\n",
       "          7.60145607e-01,   5.91060001e-01],\n",
       "       [  2.54757633e+00,   1.03160013e+00,   7.75667226e-01,\n",
       "          6.48415197e-01,   5.85140867e-01],\n",
       "       [  9.84335859e+00,   1.63049119e+01,   2.32974304e+01,\n",
       "          2.97891685e+01,   3.92828898e+01],\n",
       "       [  9.82164151e-01,   1.03657862e+00,   1.02513588e+00,\n",
       "          1.00557758e+00,   9.50730487e-01],\n",
       "       [  3.11903977e+02,   1.97227377e+01,   9.43693874e+00,\n",
       "          6.45701736e+00,   4.77318725e+00],\n",
       "       [  3.07559084e+00,   4.09448538e+00,   4.55208968e+00,\n",
       "          4.98334043e+00,   4.85648871e+00],\n",
       "       [  3.38590786e+01,   8.34249230e+00,   4.76330570e+00,\n",
       "          3.38546405e+00,   2.88221011e+00],\n",
       "       [  2.21004143e+02,   4.99709725e+00,   2.55266236e+00,\n",
       "          1.66578945e+00,   1.26164923e+00],\n",
       "       [  8.80913642e+02,   7.73497059e+00,   4.10884829e+00,\n",
       "          2.93607441e+00,   2.32785012e+00],\n",
       "       [  1.77241750e+01,   1.73542512e+00,   1.11926986e+00,\n",
       "          8.80909037e-01,   7.70058142e-01]])"
      ]
     },
     "execution_count": 4,
     "metadata": {},
     "output_type": "execute_result"
    }
   ],
   "source": [
    "test.variances()"
   ]
  },
  {
   "cell_type": "code",
   "execution_count": 5,
   "metadata": {
    "collapsed": false
   },
   "outputs": [
    {
     "data": {
      "text/plain": [
       "array([ 154.70521584,    6.91515931,    5.47019265,    5.41982897,\n",
       "          5.99679726])"
      ]
     },
     "execution_count": 5,
     "metadata": {},
     "output_type": "execute_result"
    }
   ],
   "source": [
    "test.variances(each_sim = False)"
   ]
  },
  {
   "cell_type": "code",
   "execution_count": null,
   "metadata": {
    "collapsed": true
   },
   "outputs": [],
   "source": []
  }
 ],
 "metadata": {
  "kernelspec": {
   "display_name": "Python 3",
   "language": "python",
   "name": "python3"
  },
  "language_info": {
   "codemirror_mode": {
    "name": "ipython",
    "version": 3
   },
   "file_extension": ".py",
   "mimetype": "text/x-python",
   "name": "python",
   "nbconvert_exporter": "python",
   "pygments_lexer": "ipython3",
   "version": "3.5.1"
  }
 },
 "nbformat": 4,
 "nbformat_minor": 0
}
