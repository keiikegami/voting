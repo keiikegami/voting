{
 "cells": [
  {
   "cell_type": "markdown",
   "metadata": {},
   "source": [
    "# やること\n",
    "\n",
    "## パラメータは？\n",
    "\n",
    "パラメータとして与えるのは以下\n",
    "\n",
    "①　$\\rho_{\\chi_{k}}$　:　 $\\chi_{k}$に対するbeliefのprior precision。　candidateごとに用意する。\n",
    "\n",
    "②　$\\mu_{\\chi_{k}}$　：　$\\chi_{k}$に対するbeliefのmean。candidateごとに用意する。\n",
    "\n",
    "③　$\\rho_{\\eta}$　：　シグナルのprecision。一つで良い。\n",
    "\n",
    "④　$\\chi_{k}$　：　candidate kのtrue quality。candidateごとに用意する。\n",
    "\n",
    "## belief updating\n",
    "\n",
    "③と④をgivenとして$s_{1,k}\\sim N(\\chi_{k}, \\frac{1}{\\rho_{\\eta}})$をdrawする。\n",
    "\n",
    "1期のシグナルをもとに、①②③を用いてposteriorを次のように構成する。\n",
    "\n",
    "$B_{1, k} \\sim N\\left(\\frac{\\rho_{\\chi_{k}} \\mu_{\\chi_{k}} + \\rho_{\\eta}s_{1, k}}{\\rho_{\\chi_{k}} + t \\rho_{\\eta}}, \\frac{1}{\\rho_{\\chi_{k}} + t \\rho_{\\eta}}\\right)$\n",
    "\n",
    "このposterior meanを$E\\left[\\chi_{k}|\\Omega_{1}\\right]$として記録する。\n",
    "\n",
    "以降t期においても同様に\n",
    "\n",
    "③と④をgivenとして$s_{t,k}\\sim N(\\chi_{k}, \\frac{1}{\\rho_{\\eta}})$をdrawする。\n",
    "\n",
    "t期のシグナルをもとに、①②③を用いてposteriorを次のように構成する。\n",
    "\n",
    "$B_{1, k} \\sim N\\left(\\frac{\\rho_{\\chi_{k}} \\mu_{\\chi_{k}} + \\rho_{\\eta} \\sum_{\\tau = 1}^{t} s_{\\tau, k}}{\\rho_{\\chi_{k}} + t \\rho_{\\eta}}, \\frac{1}{\\rho_{\\chi_{k}} + t \\rho_{\\eta}}\\right)$\n",
    "\n",
    "そしてそのposterior meanを$E\\left[\\chi_{k}|\\Omega_{t}\\right]$として記録する。\n",
    "\n",
    "## 詳細\n",
    "\n",
    "パラメータセット一つにつきT回シグナルを乱数発生する。使うパラメータはいつも一緒なので出てくる数字に大差はない。\n",
    "\n",
    "違うのはその出てくる順番。T!順あり得るので一つのパラメータセットにつきT!回1期からT期までの$E\\left[\\chi_{k}|\\Omega_{t}\\right]$を記録する。\n",
    "\n",
    "が、階乗はあまりに大きすぎるので、100より大きい場合は100を採用する。\n",
    "\n",
    "さらにパラメータは100セット用意。\n",
    "\n",
    "以下では、candidate4人について$E\\left[\\chi_{k}|\\Omega_{t}\\right]$のpathを100×T!通り作成するためのclassを作成する。\n",
    "\n",
    "使用するクラスは以下で定義されている。"
   ]
  },
  {
   "cell_type": "markdown",
   "metadata": {},
   "source": [
    "class ExpectedChi:\n",
    "    \n",
    "    def __init__(self, lam = 1.0, T = 5, sim = 10, random_state = 1):\n",
    "        self.lam = lam # parameter of exponential distribution which rho's follow\n",
    "        self.T = T # time\n",
    "        self.sim = sim # simulation number\n",
    "        self.random_state = random_state\n",
    "    \n",
    "    def setparam(self):\n",
    "        # params[0, :]　：　rho_eta\n",
    "        # params[(1,2,3,4), :] : rho_chi for each candidate\n",
    "        # params[(5,6,7,8), :] : mu_chi for each candidate\n",
    "        # params[(9,10,11,12), :] : chi for each candidate\n",
    "        r = np.random.RandomState(self.random_state)\n",
    "        rho = r.exponential(self.lam, (5, self.sim))\n",
    "        mu_chi = r.normal(0.0,1.0,(8, self.sim))\n",
    "        params = np.vstack((rho, mu_chi))\n",
    "        return params\n",
    "        \n",
    "    def signals(self):\n",
    "        # make the 4 dimentional array : all_signals\n",
    "        # each element in all_signals is 3 dimentional array whose shape is (T! * 4 * T )\n",
    "        params = self.setparam()\n",
    "        all_signals = np.empty([self.sim, min(100, factorial(self.T).astype(int)), 4, self.T])\n",
    "        g = np.random.RandomState(self.random_state)\n",
    "        for i in range(self.sim):\n",
    "            for k in range(min(100, factorial(self.T).astype(int))):\n",
    "                for j in range(4):\n",
    "                    all_signals[i, k, j, :] = g.normal(params[j + 9, i], 1/params[0, i],  (1, self.T))\n",
    "        return all_signals\n",
    "    \n",
    "    def cum_signals(self):\n",
    "        # calculating cumulative signals for expected chi_k given omega\n",
    "        sig = self.signals()\n",
    "        for i in range(self.sim):\n",
    "            for j in range(self.T):\n",
    "                if j != 0:\n",
    "                    sig[i, :, :, :][:, :, j] = sig[i, :, :, :][:, :, j] + sig[i, :, :, :][:, :, j -1]\n",
    "        return sig\n",
    "            \n",
    "    def expected_chi(self):\n",
    "        # calculating expected chi_k given omega\n",
    "        cum = self.cum_signals()\n",
    "        params = self.setparam()\n",
    "        transform = np.empty((self.sim, min(100, factorial(self.T).astype(int)), 4, self.T))\n",
    "        \n",
    "        # first multiply cum by rho_eta \n",
    "        for i in range(self.sim):\n",
    "            transform[i, :, :, :] = cum[i, :, :, :] * params[0, i]\n",
    "            \n",
    "        # second add rho_chi + mu_chi to transform\n",
    "        for i in range(self.sim):\n",
    "            for j in range(4):\n",
    "                transform[i, :, j, :] = transform[i, :, j, :] + (params[j + 1, i] * params[j + 5, i])\n",
    "        \n",
    "        # third divide by rho_chi + t * rho_eta\n",
    "        for i in range(self.sim):\n",
    "            for j in range(4):\n",
    "                for t in range(self.T):\n",
    "                    transform[i, :, j, t] = transform[i, :, j, t] / (params[j + 1, i] + t * params[0, i])\n",
    "        \n",
    "        return transform\n",
    "    \n",
    "    def means(self, each_sim = True):\n",
    "        # calculate mean\n",
    "        if each_sim == True:\n",
    "            # calculate the means of expected chi for each parameter set and t\n",
    "            # return matrix\n",
    "            return self.expected_chi().mean(axis = (1,2))\n",
    "        \n",
    "        else:\n",
    "            # calcualte the over all mean\n",
    "            return self.expected_chi().mean(axis = (0,1,2))\n",
    "        \n",
    "    def variances(self, each_sim = True):\n",
    "        # calculate variance\n",
    "        if each_sim == True:\n",
    "            # calculate the variances of expected chi for each parameter set and t\n",
    "            # return list\n",
    "            return self.expected_chi().var(axis = (1,2))\n",
    "        \n",
    "        else:\n",
    "            # calcualte the over all variances\n",
    "            return self.expected_chi().var(axis = (0,1,2))"
   ]
  },
  {
   "cell_type": "code",
   "execution_count": 2,
   "metadata": {
    "collapsed": false
   },
   "outputs": [],
   "source": [
    "import numpy as np\n",
    "from scipy.special import factorial\n",
    "from ExpectedChi import ExpectedChi as EC\n",
    "test = EC()"
   ]
  },
  {
   "cell_type": "code",
   "execution_count": 5,
   "metadata": {
    "collapsed": false
   },
   "outputs": [
    {
     "data": {
      "text/plain": [
       "array([[-0.95451902, -0.19665242, -0.06700772,  0.00919043,  0.01810542],\n",
       "       [ 0.13738635,  0.36760502,  0.36495195,  0.37563575,  0.3661167 ],\n",
       "       [-0.13912021, -0.30731005, -0.2098157 , -0.06743069,  0.03291647],\n",
       "       [-0.10813287, -0.16120758, -0.1870669 , -0.207069  , -0.24767411],\n",
       "       [ 0.20200643,  0.40211636,  0.36988999,  0.45764656,  0.38410938],\n",
       "       [ 1.08042733,  1.04125474,  0.93038106,  0.88075584,  0.90492917],\n",
       "       [ 0.61427264,  0.65103072,  0.64995042,  0.54578841,  0.4935955 ],\n",
       "       [ 3.9227891 ,  0.93822636,  0.836572  ,  0.80312989,  0.81263714],\n",
       "       [-2.35641226, -0.45330074, -0.35849907, -0.29776484, -0.24381213],\n",
       "       [ 0.24563887,  0.41996209,  0.36431147,  0.38138495,  0.38177583]])"
      ]
     },
     "execution_count": 5,
     "metadata": {},
     "output_type": "execute_result"
    }
   ],
   "source": [
    "test.means()"
   ]
  },
  {
   "cell_type": "code",
   "execution_count": 6,
   "metadata": {
    "collapsed": false
   },
   "outputs": [
    {
     "data": {
      "text/plain": [
       "array([ 0.26443364,  0.27017245,  0.26936675,  0.28812673,  0.29026994])"
      ]
     },
     "execution_count": 6,
     "metadata": {},
     "output_type": "execute_result"
    }
   ],
   "source": [
    "test.means(each_sim = False)"
   ]
  },
  {
   "cell_type": "code",
   "execution_count": 7,
   "metadata": {
    "collapsed": false
   },
   "outputs": [
    {
     "data": {
      "text/plain": [
       "array([[  2.70573909e+01,   1.71569905e+00,   1.04707228e+00,\n",
       "          7.50241566e-01,   5.75372365e-01],\n",
       "       [  2.51843678e+00,   1.01955946e+00,   7.64925646e-01,\n",
       "          6.29940682e-01,   5.65279596e-01],\n",
       "       [  9.95466515e+00,   1.64390898e+01,   2.43685028e+01,\n",
       "          3.47867903e+01,   4.35889841e+01],\n",
       "       [  9.12274113e-01,   9.33901670e-01,   8.61612411e-01,\n",
       "          8.70316849e-01,   8.51200308e-01],\n",
       "       [  3.84417408e+02,   2.29267606e+01,   1.15304060e+01,\n",
       "          7.62365280e+00,   5.63466132e+00],\n",
       "       [  3.25350271e+00,   3.84807498e+00,   3.86107561e+00,\n",
       "          3.87465185e+00,   3.77069067e+00],\n",
       "       [  3.14950507e+01,   7.38636046e+00,   4.60463474e+00,\n",
       "          3.82735111e+00,   3.15152994e+00],\n",
       "       [  2.24226373e+02,   5.05099907e+00,   2.36863369e+00,\n",
       "          1.64310560e+00,   1.44482906e+00],\n",
       "       [  7.50248567e+02,   8.10202397e+00,   4.05476539e+00,\n",
       "          2.72201243e+00,   2.12856730e+00],\n",
       "       [  2.22691658e+01,   2.00364040e+00,   1.20884940e+00,\n",
       "          8.90835234e-01,   7.07763250e-01]])"
      ]
     },
     "execution_count": 7,
     "metadata": {},
     "output_type": "execute_result"
    }
   ],
   "source": [
    "test.variances()"
   ]
  },
  {
   "cell_type": "code",
   "execution_count": 9,
   "metadata": {
    "collapsed": false
   },
   "outputs": [
    {
     "data": {
      "text/plain": [
       "array([ 147.92013641,    7.19222793,    5.65475504,    5.91395317,\n",
       "          6.38487564])"
      ]
     },
     "execution_count": 9,
     "metadata": {},
     "output_type": "execute_result"
    }
   ],
   "source": [
    "test.variances(each_sim = False)"
   ]
  },
  {
   "cell_type": "code",
   "execution_count": 18,
   "metadata": {
    "collapsed": false
   },
   "outputs": [
    {
     "data": {
      "text/plain": [
       "(10, 100, 4, 5)"
      ]
     },
     "execution_count": 18,
     "metadata": {},
     "output_type": "execute_result"
    }
   ],
   "source": [
    "# 100が採用されている\n",
    "test.expected_chi().shape"
   ]
  },
  {
   "cell_type": "markdown",
   "metadata": {},
   "source": [
    "## 実際に使用するシミュレーションを出力"
   ]
  },
  {
   "cell_type": "code",
   "execution_count": 3,
   "metadata": {
    "collapsed": false
   },
   "outputs": [],
   "source": [
    "chiom = EC(T = 14, sim = 100, )"
   ]
  },
  {
   "cell_type": "code",
   "execution_count": 21,
   "metadata": {
    "collapsed": false
   },
   "outputs": [
    {
     "data": {
      "text/plain": [
       "array([ 1.16051465,  0.05088978,  0.0494573 ,  0.04283046,  0.05479632,\n",
       "        0.06153513,  0.06707816,  0.0665279 ,  0.05256553,  0.06468128,\n",
       "        0.05511648,  0.06044397,  0.06487856,  0.0593507 ])"
      ]
     },
     "execution_count": 21,
     "metadata": {},
     "output_type": "execute_result"
    }
   ],
   "source": [
    "chiom.means(each_sim = False)"
   ]
  },
  {
   "cell_type": "code",
   "execution_count": 22,
   "metadata": {
    "collapsed": false
   },
   "outputs": [
    {
     "data": {
      "text/plain": [
       "array([ 12245.64415593,     21.67245879,     15.4566816 ,     17.16466401,\n",
       "           17.3042649 ,     19.15097192,     21.33564027,     23.20854254,\n",
       "           24.26826882,     26.91330901,     29.53060822,     31.67632901,\n",
       "           35.68377826,     36.80298698])"
      ]
     },
     "execution_count": 22,
     "metadata": {},
     "output_type": "execute_result"
    }
   ],
   "source": [
    "chiom.variances(each_sim = False)"
   ]
  },
  {
   "cell_type": "code",
   "execution_count": 23,
   "metadata": {
    "collapsed": false
   },
   "outputs": [
    {
     "data": {
      "text/plain": [
       "(100, 100, 4, 14)"
      ]
     },
     "execution_count": 23,
     "metadata": {},
     "output_type": "execute_result"
    }
   ],
   "source": [
    "chiom.expected_chi().shape"
   ]
  },
  {
   "cell_type": "code",
   "execution_count": 30,
   "metadata": {
    "collapsed": false
   },
   "outputs": [
    {
     "name": "stdout",
     "output_type": "stream",
     "text": [
      "[ 2.89129588  0.10339334 -0.58758511 -1.17881917 -0.76122864 -1.51305828\n",
      " -0.92781754 -1.09451194 -0.99379197 -1.02199736 -0.74943342 -1.07966752\n",
      " -1.10511463 -1.13517343  1.49313796  0.8845636   0.66442966  0.34298538\n",
      "  0.26718983  0.30063936  0.05838547  0.18605492  0.26165906  0.27607344\n",
      "  0.33608531  0.21150141  0.16030268  0.0334484   1.65060108  1.5363441 ]\n"
     ]
    }
   ],
   "source": [
    "# 1次元配列にする\n",
    "# 以下からわかるようにravelは、パラメータセット1組目の、並び替え順1回目の、候補者1の1〜14期から順に出力する。\n",
    "print(np.ravel(chiom.expected_chi())[0:30])"
   ]
  },
  {
   "cell_type": "code",
   "execution_count": 32,
   "metadata": {
    "collapsed": true
   },
   "outputs": [],
   "source": [
    "# 出力\n",
    "import pandas as pd\n",
    "simu_chi = pd.Series(np.ravel(chiom.expected_chi()))\n",
    "simu_chi.to_csv('chidata.csv')"
   ]
  },
  {
   "cell_type": "code",
   "execution_count": 5,
   "metadata": {
    "collapsed": false
   },
   "outputs": [],
   "source": [
    "# パラメータの初期値を出力する\n",
    "import pandas as pd\n",
    "learning_params = pd.Series(np.ravel(chiom.setparam()))\n",
    "learning_params.to_csv('learnin_params.csv')"
   ]
  },
  {
   "cell_type": "code",
   "execution_count": null,
   "metadata": {
    "collapsed": true
   },
   "outputs": [],
   "source": []
  }
 ],
 "metadata": {
  "kernelspec": {
   "display_name": "Python 3",
   "language": "python",
   "name": "python3"
  },
  "language_info": {
   "codemirror_mode": {
    "name": "ipython",
    "version": 3
   },
   "file_extension": ".py",
   "mimetype": "text/x-python",
   "name": "python",
   "nbconvert_exporter": "python",
   "pygments_lexer": "ipython3",
   "version": "3.5.1"
  }
 },
 "nbformat": 4,
 "nbformat_minor": 0
}
