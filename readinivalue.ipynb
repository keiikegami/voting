{
 "cells": [
  {
   "cell_type": "code",
   "execution_count": 23,
   "metadata": {
    "collapsed": true
   },
   "outputs": [],
   "source": [
    "using DataFrames"
   ]
  },
  {
   "cell_type": "code",
   "execution_count": 26,
   "metadata": {
    "collapsed": false
   },
   "outputs": [],
   "source": [
    "ini1 = squeeze(array(readtable(\"inivalue_1.txt\")), 2);\n",
    "ini2 = squeeze(array(readtable(\"inivalue_2.txt\")), 2);\n",
    "ini3 = squeeze(array(readtable(\"inivalue_3.txt\")), 2);\n",
    "ini4 = squeeze(array(readtable(\"inivalue_4.txt\")), 2);\n",
    "ini5 = squeeze(array(readtable(\"inivalue_5.txt\")), 2);\n",
    "ini6 = squeeze(array(readtable(\"inivalue_6.txt\")), 2);\n",
    "ini7 = squeeze(array(readtable(\"inivalue_7.txt\")), 2);\n",
    "ini8 = squeeze(array(readtable(\"inivalue_8.txt\")), 2);\n",
    "ini9 = squeeze(array(readtable(\"inivalue_9.txt\")), 2);\n",
    "ini10 = squeeze(array(readtable(\"inivalue_10.txt\")), 2);"
   ]
  },
  {
   "cell_type": "code",
   "execution_count": 31,
   "metadata": {
    "collapsed": false
   },
   "outputs": [
    {
     "data": {
      "text/plain": [
       "273-element Array{Float64,1}:\n",
       "  0.297288 \n",
       "  0.382396 \n",
       " -0.597634 \n",
       " -0.0104452\n",
       " -0.839027 \n",
       "  0.311111 \n",
       "  2.29509  \n",
       " -2.26709  \n",
       "  0.529966 \n",
       "  0.431422 \n",
       "  0.583708 \n",
       "  0.963272 \n",
       "  0.458791 \n",
       "  ⋮        \n",
       " -0.322996 \n",
       "  0.340216 \n",
       " -0.299618 \n",
       "  1.9136   \n",
       " -1.6191   \n",
       "  0.516971 \n",
       " -1.28258  \n",
       "  1.08408  \n",
       " -0.79442  \n",
       " -0.0256681\n",
       " -0.0114625\n",
       "  1.46789  "
      ]
     },
     "execution_count": 31,
     "metadata": {},
     "output_type": "execute_result"
    }
   ],
   "source": [
    "squeeze(array(readtable(\"inivalue_1.txt\")), 2)"
   ]
  },
  {
   "cell_type": "code",
   "execution_count": null,
   "metadata": {
    "collapsed": true
   },
   "outputs": [],
   "source": []
  }
 ],
 "metadata": {
  "kernelspec": {
   "display_name": "Julia 0.5.0",
   "language": "julia",
   "name": "julia-0.5"
  },
  "language_info": {
   "file_extension": ".jl",
   "mimetype": "application/julia",
   "name": "julia",
   "version": "0.5.0"
  }
 },
 "nbformat": 4,
 "nbformat_minor": 0
}
